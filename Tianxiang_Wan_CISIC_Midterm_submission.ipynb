{
 "cells": [
  {
   "cell_type": "code",
   "execution_count": 1,
   "metadata": {
    "scrolled": true
   },
   "outputs": [
    {
     "name": "stdout",
     "output_type": "stream",
     "text": [
      "Insert money: 5\n",
      "Item price: 1.65\n",
      "Change is  3 doller  1 quarter  1 dime  0 nikcel  0 cent\n"
     ]
    }
   ],
   "source": [
    "import math\n",
    "from math import floor\n",
    "Insert = int(input('Insert money: '))\n",
    "price = float(input('Item price: '))\n",
    "if Insert<price: \n",
    "    print (\"Insert More Money\")\n",
    "else:\n",
    "     dollarNum = floor(Insert-price)\n",
    "     quarterNum = floor(round((Insert-price)%1,2)/0.25)\n",
    "     dimeNum = floor(round((Insert-price)%1%0.25,2)/0.1)\n",
    "     nikcelNum = floor(round((Insert-price)%1%0.25%0.1,2)/0.05)\n",
    "     centNum = floor(round((Insert-price)%1%0.25%0.1%0.05,2)/0.01)\n",
    "     print(\"Change is \", dollarNum, \"doller \", quarterNum,  \"quarter \", dimeNum, \"dime \", nikcelNum, \"nikcel \", centNum,\"cent\")"
   ]
  },
  {
   "cell_type": "code",
   "execution_count": 2,
   "metadata": {},
   "outputs": [
    {
     "name": "stdout",
     "output_type": "stream",
     "text": [
      "Input the string sentence:\n",
      "I love python\n",
      "I-LOVE-PYTHON!\n"
     ]
    }
   ],
   "source": [
    "def transferFunction(message):\n",
    "    output=\"\"\n",
    "    for c in message:\n",
    "        if c == \" \":\n",
    "            output +=\"-\"                                                           \n",
    "        elif 96<ord(c)<123:\n",
    "             output +=chr(ord(c)-32)\n",
    "        else:\n",
    "            output +=c\n",
    "    output+=\"!\"\n",
    "    return output   \n",
    "print(transferFunction(input(\"Input the string sentence:\\n\")))\n"
   ]
  },
  {
   "cell_type": "code",
   "execution_count": 3,
   "metadata": {},
   "outputs": [
    {
     "name": "stdout",
     "output_type": "stream",
     "text": [
      "Number of dealrs: 3\n",
      "Type the weather: sunny\n",
      "Type the price $: 5000\n",
      "Type the weather: windy\n",
      "Type the price $: 50000\n",
      "Type the weather: rainy\n",
      "Type the price $: 3000\n",
      "Go to the dealer with windy weather and the price is $ 50000\n"
     ]
    }
   ],
   "source": [
    "#choose the dealer to purchase car depend on weather and the lower price\n",
    "class Dealer(object):\n",
    "    weather = \"\"\n",
    "    price = 0\n",
    "    \n",
    "def make_dealer(weather, price):\n",
    "    dealer = Dealer()\n",
    "    dealer.weather = weather\n",
    "    dealer.price = price\n",
    "    return dealer\n",
    "\n",
    "num = int(input('Number of dealrs: '))\n",
    "wathcList = [];\n",
    "dealers = [];\n",
    "for x in range(num):\n",
    " weather = input('Type the weather: ')\n",
    " price = int(input('Type the price $: '))\n",
    " make_dealer(weather,price)\n",
    " dealers.append(make_dealer(weather,price))\n",
    "\n",
    "for x in dealers:\n",
    "  if x.weather !=\"rainy\" and x.weather !=\"snowy\":\n",
    "    wathcList.append(x)\n",
    "\n",
    "targerDealer = wathcList[0]\n",
    "for x in wathcList:\n",
    "    if x.price<targerDealer.price:\n",
    "      targerDealer = x\n",
    "        \n",
    "print(\"Go to the dealer with\",x.weather, \"weather and the price is $\", x.price)"
   ]
  },
  {
   "cell_type": "code",
   "execution_count": null,
   "metadata": {},
   "outputs": [],
   "source": []
  }
 ],
 "metadata": {
  "kernelspec": {
   "display_name": "Python 3",
   "language": "python",
   "name": "python3"
  },
  "language_info": {
   "codemirror_mode": {
    "name": "ipython",
    "version": 3
   },
   "file_extension": ".py",
   "mimetype": "text/x-python",
   "name": "python",
   "nbconvert_exporter": "python",
   "pygments_lexer": "ipython3",
   "version": "3.7.1"
  }
 },
 "nbformat": 4,
 "nbformat_minor": 2
}
