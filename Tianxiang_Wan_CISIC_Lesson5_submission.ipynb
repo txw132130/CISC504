{
 "cells": [
  {
   "cell_type": "code",
   "execution_count": 25,
   "metadata": {},
   "outputs": [
    {
     "data": {
      "application/vnd.jupyter.widget-view+json": {
       "model_id": "9f675c096b014c6285ca0c4e2086ac7e",
       "version_major": 2,
       "version_minor": 0
      },
      "text/plain": [
       "Turtle()"
      ]
     },
     "metadata": {},
     "output_type": "display_data"
    }
   ],
   "source": [
    "from mobilechelonian import Turtle\n",
    "t=Turtle()\n",
    "t.left(90)\n",
    "t.forward(100)\n",
    "t.right(90)\n",
    "t.circle(30,360)\n",
    "t.right(90)\n",
    "t.forward(70)\n",
    "t.right(90)\n",
    "t.forward(70)\n",
    "t.right(90)\n",
    "t.circle(10,360)\n",
    "t.right(90)\n",
    "t.forward(140)\n",
    "t.right(90)\n",
    "t.circle(10,360)\n",
    "t.right(90)\n",
    "t.forward(70)\n",
    "t.left(90)\n",
    "t.forward(50)\n",
    "t.right(30)\n",
    "t.forward(120)\n",
    "t.right(90)\n",
    "t.circle(10,360)\n",
    "t.right(90)\n",
    "t.forward(120)\n",
    "t.right(120)\n",
    "t.forward(120)\n",
    "t.right(90)\n",
    "t.circle(10,360)\n"
   ]
  },
  {
   "cell_type": "code",
   "execution_count": null,
   "metadata": {},
   "outputs": [],
   "source": []
  }
 ],
 "metadata": {
  "kernelspec": {
   "display_name": "Python 3",
   "language": "python",
   "name": "python3"
  },
  "language_info": {
   "codemirror_mode": {
    "name": "ipython",
    "version": 3
   },
   "file_extension": ".py",
   "mimetype": "text/x-python",
   "name": "python",
   "nbconvert_exporter": "python",
   "pygments_lexer": "ipython3",
   "version": "3.7.1"
  }
 },
 "nbformat": 4,
 "nbformat_minor": 2
}
