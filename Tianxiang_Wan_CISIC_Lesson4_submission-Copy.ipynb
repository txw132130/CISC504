{
 "cells": [
  {
   "cell_type": "code",
   "execution_count": 11,
   "metadata": {},
   "outputs": [
    {
     "name": "stdin",
     "output_type": "stream",
     "text": [
      "Input message you would like decrypt:\n",
      " Rfgq gq y qcapcr\n"
     ]
    },
    {
     "name": "stdout",
     "output_type": "stream",
     "text": [
      "This is a secret\n"
     ]
    }
   ],
   "source": [
    "from string import ascii_lowercase as Characters\n",
    "\n",
    "def decrypt(message):\n",
    "    output=\"\"\n",
    "    length = len(message);\n",
    "    for i in range(length):\n",
    "        if message[i:i+1] == \" \":\n",
    "            output +=\" \"                                                           \n",
    "        elif 90<ord(message[i:i+1])<121 or ord(message[i:i+1])<89:\n",
    "             output +=chr(ord(message[i:i+1])+2)\n",
    "        else:\n",
    "            output +=chr(ord(message[i:i+1])-24)\n",
    "    return output   \n",
    "print(decrypt(input(\"Input message you would like decrypt:\\n\")))"
   ]
  },
  {
   "cell_type": "code",
   "execution_count": 12,
   "metadata": {},
   "outputs": [],
   "source": [
    "First_name=\"John\" "
   ]
  },
  {
   "cell_type": "code",
   "execution_count": 13,
   "metadata": {},
   "outputs": [],
   "source": [
    "last_name=\"Smith\""
   ]
  },
  {
   "cell_type": "code",
   "execution_count": 14,
   "metadata": {},
   "outputs": [
    {
     "data": {
      "text/plain": [
       "'Jsmith'"
      ]
     },
     "execution_count": 14,
     "metadata": {},
     "output_type": "execute_result"
    }
   ],
   "source": [
    "First_name[0]+last_name.lower()"
   ]
  },
  {
   "cell_type": "code",
   "execution_count": 15,
   "metadata": {},
   "outputs": [],
   "source": [
    "sentence=\"Send eagle cross rainbow entire time\""
   ]
  },
  {
   "cell_type": "code",
   "execution_count": 16,
   "metadata": {},
   "outputs": [
    {
     "data": {
      "text/plain": [
       "'Secret'"
      ]
     },
     "execution_count": 16,
     "metadata": {},
     "output_type": "execute_result"
    }
   ],
   "source": [
    "# this only use slice function \n",
    "sentence[0]+sentence[5:6]+sentence[11:12]+sentence[17:18]+sentence[25:26]+sentence[32:33]"
   ]
  },
  {
   "cell_type": "code",
   "execution_count": 17,
   "metadata": {},
   "outputs": [],
   "source": [
    "w = sentence.split()\n",
    "output=\"\"\n",
    "for i in w:\n",
    "    output +=i[0].lower()"
   ]
  },
  {
   "cell_type": "code",
   "execution_count": 18,
   "metadata": {},
   "outputs": [
    {
     "name": "stdout",
     "output_type": "stream",
     "text": [
      "secret\n"
     ]
    }
   ],
   "source": [
    "print(output)"
   ]
  },
  {
   "cell_type": "code",
   "execution_count": null,
   "metadata": {},
   "outputs": [],
   "source": []
  }
 ],
 "metadata": {
  "kernelspec": {
   "display_name": "Python 3",
   "language": "python",
   "name": "python3"
  },
  "language_info": {
   "codemirror_mode": {
    "name": "ipython",
    "version": 3
   },
   "file_extension": ".py",
   "mimetype": "text/x-python",
   "name": "python",
   "nbconvert_exporter": "python",
   "pygments_lexer": "ipython3",
   "version": "3.7.1"
  }
 },
 "nbformat": 4,
 "nbformat_minor": 2
}
