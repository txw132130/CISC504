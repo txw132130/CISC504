{
 "cells": [
  {
   "cell_type": "code",
   "execution_count": 3,
   "metadata": {},
   "outputs": [
    {
     "name": "stdout",
     "output_type": "stream",
     "text": [
      "1 this number is odd\n",
      "4 This number is even\n",
      "5 this number is odd\n",
      "6 This number is even\n",
      "3 this number is odd\n",
      "2 This number is even\n",
      "7 this number is odd\n",
      "8 This number is even\n",
      "66 This number is even\n",
      "54 This number is even\n",
      "78 This number is even\n",
      "97 this number is odd\n",
      "54 This number is even\n",
      "34 This number is even\n",
      "67 this number is odd\n",
      "65 this number is odd\n",
      "56 This number is even\n",
      "45 this number is odd\n",
      "54 This number is even\n"
     ]
    }
   ],
   "source": [
    "List_1 = [1, 4, 5, 6, 3, 2, 7 ,8 , 66, 54, 78, 97, 54, 34, 67, 65, 56, 45, 54]\n",
    "for i in List_1:\n",
    "    if i%2 ==0:\n",
    "        print(i,\"This number is even\")\n",
    "    else:\n",
    "        print(i,\"this number is odd\")"
   ]
  },
  {
   "cell_type": "code",
   "execution_count": 6,
   "metadata": {},
   "outputs": [
    {
     "name": "stdout",
     "output_type": "stream",
     "text": [
      "1 this number is odd\n",
      "4 This number is even\n",
      "5 this number is odd\n",
      "6 This number is even\n",
      "3 this number is odd\n",
      "2 This number is even\n",
      "7 this number is odd\n",
      "8 This number is even\n",
      "66 This number is even\n"
     ]
    }
   ],
   "source": [
    "for i in List_1:\n",
    "    if i== 66:\n",
    "        print(i,\"This number is even\")\n",
    "        break\n",
    "    elif i%2 ==0:\n",
    "        print(i,\"This number is even\")\n",
    "    else:\n",
    "        print(i,\"this number is odd\")"
   ]
  },
  {
   "cell_type": "code",
   "execution_count": 8,
   "metadata": {},
   "outputs": [
    {
     "name": "stdout",
     "output_type": "stream",
     "text": [
      "1 this number is odd\n",
      "4 This number is even\n",
      "5 this number is odd\n",
      "6 This number is even\n",
      "3 this number is odd\n",
      "2 This number is even\n",
      "7 this number is odd\n",
      "66 This number is even\n",
      "54 This number is even\n",
      "78 This number is even\n",
      "97 this number is odd\n",
      "54 This number is even\n",
      "34 This number is even\n",
      "67 this number is odd\n",
      "65 this number is odd\n"
     ]
    }
   ],
   "source": [
    "for i in List_1:\n",
    "    if i== 8:\n",
    "        continue\n",
    "    elif i ==65:\n",
    "        print(i,\"this number is odd\")\n",
    "        break\n",
    "    elif i%2 ==0:\n",
    "        print(i,\"This number is even\")\n",
    "    else:\n",
    "        print(i,\"this number is odd\")"
   ]
  },
  {
   "cell_type": "code",
   "execution_count": 17,
   "metadata": {},
   "outputs": [
    {
     "name": "stdout",
     "output_type": "stream",
     "text": [
      "0.0\n",
      "1.0\n",
      "4.0\n",
      "9.0\n",
      "16.0\n"
     ]
    }
   ],
   "source": [
    "import math\n",
    "i=0\n",
    "while i<5:\n",
    "    print(math.pow(i,2))\n",
    "    i += 1"
   ]
  },
  {
   "cell_type": "code",
   "execution_count": 22,
   "metadata": {},
   "outputs": [
    {
     "name": "stdout",
     "output_type": "stream",
     "text": [
      "0.0\n",
      "1.0\n",
      "4.0\n",
      "9.0\n",
      "16.0\n"
     ]
    }
   ],
   "source": [
    "i=0\n",
    "for i in range(5):\n",
    "   print(math.pow(i,2))"
   ]
  },
  {
   "cell_type": "code",
   "execution_count": null,
   "metadata": {},
   "outputs": [],
   "source": []
  }
 ],
 "metadata": {
  "kernelspec": {
   "display_name": "Python 3",
   "language": "python",
   "name": "python3"
  },
  "language_info": {
   "codemirror_mode": {
    "name": "ipython",
    "version": 3
   },
   "file_extension": ".py",
   "mimetype": "text/x-python",
   "name": "python",
   "nbconvert_exporter": "python",
   "pygments_lexer": "ipython3",
   "version": "3.7.1"
  }
 },
 "nbformat": 4,
 "nbformat_minor": 2
}
