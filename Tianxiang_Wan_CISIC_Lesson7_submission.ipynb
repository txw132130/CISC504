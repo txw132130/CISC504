{
 "cells": [
  {
   "cell_type": "code",
   "execution_count": 1,
   "metadata": {},
   "outputs": [
    {
     "name": "stdout",
     "output_type": "stream",
     "text": [
      "Input number: 8\n",
      "512.0\n"
     ]
    }
   ],
   "source": [
    "import math\n",
    "input = int(input('Input number: '))\n",
    "\n",
    "if input<3: print (input)\n",
    "elif 3 <= input <7: print (math.pow(input, 2))\n",
    "elif input>=7: print (math.pow(input, 3))"
   ]
  },
  {
   "cell_type": "code",
   "execution_count": 7,
   "metadata": {},
   "outputs": [
    {
     "name": "stdout",
     "output_type": "stream",
     "text": [
      "0 can not be Denominator\n",
      "Enter another number here if required using finally\n"
     ]
    }
   ],
   "source": [
    "num = 0\n",
    "try:\n",
    "    2 / num\n",
    "except ZeroDivisionError:\n",
    "    print ('0 can not be Denominator')\n",
    "else:\n",
    "    print ('Code executed successfully!')\n",
    "finally:\n",
    "    print ('Enter another number here if required using finally')"
   ]
  },
  {
   "cell_type": "code",
   "execution_count": null,
   "metadata": {},
   "outputs": [],
   "source": []
  }
 ],
 "metadata": {
  "kernelspec": {
   "display_name": "Python 3",
   "language": "python",
   "name": "python3"
  },
  "language_info": {
   "codemirror_mode": {
    "name": "ipython",
    "version": 3
   },
   "file_extension": ".py",
   "mimetype": "text/x-python",
   "name": "python",
   "nbconvert_exporter": "python",
   "pygments_lexer": "ipython3",
   "version": "3.7.1"
  }
 },
 "nbformat": 4,
 "nbformat_minor": 2
}
